{
 "cells": [
  {
   "cell_type": "code",
   "execution_count": 1,
   "id": "6cdb278d",
   "metadata": {},
   "outputs": [],
   "source": [
    "import pandas as pd\n",
    "import seaborn as sns\n",
    "from sklearn.neighbors import KNeighborsRegressor\n",
    "from sklearn.metrics import mean_squared_error\n",
    "from sklearn.model_selection import train_test_split"
   ]
  },
  {
   "cell_type": "code",
   "execution_count": 2,
   "id": "4466fdbb",
   "metadata": {},
   "outputs": [
    {
     "data": {
      "text/html": [
       "<div>\n",
       "<style scoped>\n",
       "    .dataframe tbody tr th:only-of-type {\n",
       "        vertical-align: middle;\n",
       "    }\n",
       "\n",
       "    .dataframe tbody tr th {\n",
       "        vertical-align: top;\n",
       "    }\n",
       "\n",
       "    .dataframe thead th {\n",
       "        text-align: right;\n",
       "    }\n",
       "</style>\n",
       "<table border=\"1\" class=\"dataframe\">\n",
       "  <thead>\n",
       "    <tr style=\"text-align: right;\">\n",
       "      <th></th>\n",
       "      <th>0</th>\n",
       "      <th>1</th>\n",
       "      <th>2</th>\n",
       "      <th>3</th>\n",
       "      <th>4</th>\n",
       "      <th>5</th>\n",
       "    </tr>\n",
       "  </thead>\n",
       "  <tbody>\n",
       "    <tr>\n",
       "      <th>0</th>\n",
       "      <td>3.295837</td>\n",
       "      <td>0.150577</td>\n",
       "      <td>NaN</td>\n",
       "      <td>NaN</td>\n",
       "      <td>NaN</td>\n",
       "      <td>NaN</td>\n",
       "    </tr>\n",
       "    <tr>\n",
       "      <th>1</th>\n",
       "      <td>3.295898</td>\n",
       "      <td>0.172088</td>\n",
       "      <td>NaN</td>\n",
       "      <td>NaN</td>\n",
       "      <td>NaN</td>\n",
       "      <td>NaN</td>\n",
       "    </tr>\n",
       "    <tr>\n",
       "      <th>2</th>\n",
       "      <td>3.295959</td>\n",
       "      <td>0.236621</td>\n",
       "      <td>NaN</td>\n",
       "      <td>NaN</td>\n",
       "      <td>NaN</td>\n",
       "      <td>NaN</td>\n",
       "    </tr>\n",
       "    <tr>\n",
       "      <th>3</th>\n",
       "      <td>3.296021</td>\n",
       "      <td>0.232372</td>\n",
       "      <td>NaN</td>\n",
       "      <td>NaN</td>\n",
       "      <td>NaN</td>\n",
       "      <td>NaN</td>\n",
       "    </tr>\n",
       "    <tr>\n",
       "      <th>4</th>\n",
       "      <td>3.296082</td>\n",
       "      <td>0.185632</td>\n",
       "      <td>NaN</td>\n",
       "      <td>NaN</td>\n",
       "      <td>NaN</td>\n",
       "      <td>NaN</td>\n",
       "    </tr>\n",
       "    <tr>\n",
       "      <th>...</th>\n",
       "      <td>...</td>\n",
       "      <td>...</td>\n",
       "      <td>...</td>\n",
       "      <td>...</td>\n",
       "      <td>...</td>\n",
       "      <td>...</td>\n",
       "    </tr>\n",
       "    <tr>\n",
       "      <th>7096</th>\n",
       "      <td>6.493408</td>\n",
       "      <td>-0.084716</td>\n",
       "      <td>NaN</td>\n",
       "      <td>NaN</td>\n",
       "      <td>NaN</td>\n",
       "      <td>NaN</td>\n",
       "    </tr>\n",
       "    <tr>\n",
       "      <th>7097</th>\n",
       "      <td>6.493469</td>\n",
       "      <td>-0.086575</td>\n",
       "      <td>NaN</td>\n",
       "      <td>NaN</td>\n",
       "      <td>NaN</td>\n",
       "      <td>NaN</td>\n",
       "    </tr>\n",
       "    <tr>\n",
       "      <th>7098</th>\n",
       "      <td>6.493530</td>\n",
       "      <td>-0.071969</td>\n",
       "      <td>NaN</td>\n",
       "      <td>NaN</td>\n",
       "      <td>NaN</td>\n",
       "      <td>NaN</td>\n",
       "    </tr>\n",
       "    <tr>\n",
       "      <th>7099</th>\n",
       "      <td>6.493591</td>\n",
       "      <td>-0.010357</td>\n",
       "      <td>NaN</td>\n",
       "      <td>NaN</td>\n",
       "      <td>NaN</td>\n",
       "      <td>NaN</td>\n",
       "    </tr>\n",
       "    <tr>\n",
       "      <th>7100</th>\n",
       "      <td>6.493652</td>\n",
       "      <td>0.067454</td>\n",
       "      <td>NaN</td>\n",
       "      <td>NaN</td>\n",
       "      <td>NaN</td>\n",
       "      <td>NaN</td>\n",
       "    </tr>\n",
       "  </tbody>\n",
       "</table>\n",
       "<p>7101 rows × 6 columns</p>\n",
       "</div>"
      ],
      "text/plain": [
       "             0         1   2   3   4   5\n",
       "0     3.295837  0.150577 NaN NaN NaN NaN\n",
       "1     3.295898  0.172088 NaN NaN NaN NaN\n",
       "2     3.295959  0.236621 NaN NaN NaN NaN\n",
       "3     3.296021  0.232372 NaN NaN NaN NaN\n",
       "4     3.296082  0.185632 NaN NaN NaN NaN\n",
       "...        ...       ...  ..  ..  ..  ..\n",
       "7096  6.493408 -0.084716 NaN NaN NaN NaN\n",
       "7097  6.493469 -0.086575 NaN NaN NaN NaN\n",
       "7098  6.493530 -0.071969 NaN NaN NaN NaN\n",
       "7099  6.493591 -0.010357 NaN NaN NaN NaN\n",
       "7100  6.493652  0.067454 NaN NaN NaN NaN\n",
       "\n",
       "[7101 rows x 6 columns]"
      ]
     },
     "execution_count": 2,
     "metadata": {},
     "output_type": "execute_result"
    }
   ],
   "source": [
    "df = pd.read_csv('Realtime_NN.csv', header=None)\n",
    "df"
   ]
  },
  {
   "cell_type": "code",
   "execution_count": 3,
   "id": "05522412",
   "metadata": {},
   "outputs": [
    {
     "name": "stdout",
     "output_type": "stream",
     "text": [
      "             X         Y\n",
      "0     3.295837  0.150577\n",
      "1     3.295898  0.172088\n",
      "2     3.295959  0.236621\n",
      "3     3.296021  0.232372\n",
      "4     3.296082  0.185632\n",
      "...        ...       ...\n",
      "7096  6.493408 -0.084716\n",
      "7097  6.493469 -0.086575\n",
      "7098  6.493530 -0.071969\n",
      "7099  6.493591 -0.010357\n",
      "7100  6.493652  0.067454\n",
      "\n",
      "[7101 rows x 2 columns]\n"
     ]
    }
   ],
   "source": [
    "df = df.drop(columns=[2, 3, 4, 5])\n",
    "df.columns = ['X', 'Y']\n",
    "print(df)"
   ]
  },
  {
   "cell_type": "code",
   "execution_count": 4,
   "id": "3e08f9fd",
   "metadata": {},
   "outputs": [
    {
     "data": {
      "text/plain": [
       "<AxesSubplot:xlabel='X', ylabel='Y'>"
      ]
     },
     "execution_count": 4,
     "metadata": {},
     "output_type": "execute_result"
    },
    {
     "data": {
      "image/png": "[encoded data removed]",
      "text/plain": [
       "<Figure size 640x480 with 1 Axes>"
      ]
     },
     "metadata": {},
     "output_type": "display_data"
    }
   ],
   "source": [
    "sns.scatterplot(x=df['X'],y=df['Y'])"
   ]
  },
  {
   "cell_type": "code",
   "execution_count": 5,
   "id": "42d28c3b",
   "metadata": {},
   "outputs": [
    {
     "data": {
      "text/plain": [
       "array([[3.2958374 ],\n",
       "       [3.29589844],\n",
       "       [3.29595947],\n",
       "       ...,\n",
       "       [6.49353027],\n",
       "       [6.49359131],\n",
       "       [6.49365234]])"
      ]
     },
     "execution_count": 5,
     "metadata": {},
     "output_type": "execute_result"
    }
   ],
   "source": [
    "# Split data into X (input) and Y (output)\n",
    "X = df[['X']].values.reshape(-1, 1)\n",
    "X"
   ]
  },
  {
   "cell_type": "code",
   "execution_count": 6,
   "id": "4556310b",
   "metadata": {},
   "outputs": [
    {
     "data": {
      "text/plain": [
       "array([ 0.15057704,  0.17208803,  0.23662105, ..., -0.07196891,\n",
       "       -0.01035715,  0.06745426])"
      ]
     },
     "execution_count": 6,
     "metadata": {},
     "output_type": "execute_result"
    }
   ],
   "source": [
    "Y = df['Y'].values\n",
    "Y"
   ]
  },
  {
   "cell_type": "code",
   "execution_count": 7,
   "id": "56957a6d",
   "metadata": {},
   "outputs": [],
   "source": [
    "# Split data into training and testing sets (80% train, 20% test)\n",
    "X_train, X_test, Y_train, Y_test = train_test_split(X, Y, test_size=0.2, random_state=42)"
   ]
  },
  {
   "cell_type": "code",
   "execution_count": 12,
   "id": "60825e27",
   "metadata": {},
   "outputs": [
    {
     "data": {
      "text/plain": [
       "KNeighborsRegressor(n_neighbors=3)"
      ]
     },
     "execution_count": 12,
     "metadata": {},
     "output_type": "execute_result"
    }
   ],
   "source": [
    "# Build and train the KNN model\n",
    "k = 3  # Number of neighbors\n",
    "knn_model = KNeighborsRegressor(n_neighbors=k)\n",
    "knn_model.fit(X_train, Y_train)"
   ]
  },
  {
   "cell_type": "code",
   "execution_count": 13,
   "id": "e6dc027e",
   "metadata": {},
   "outputs": [
    {
     "name": "stdout",
     "output_type": "stream",
     "text": [
      "Mean Squared Error: 0.006994323164925935\n"
     ]
    }
   ],
   "source": [
    "# Predict on the test set\n",
    "Y_pred = knn_model.predict(X_test)\n",
    "\n",
    "# Evaluate the model\n",
    "mse = mean_squared_error(Y_test, Y_pred)\n",
    "print(\"Mean Squared Error:\", mse)"
   ]
  },
  {
   "cell_type": "code",
   "execution_count": 14,
   "id": "be223091",
   "metadata": {},
   "outputs": [
    {
     "data": {
      "text/html": [
       "<div>\n",
       "<style scoped>\n",
       "    .dataframe tbody tr th:only-of-type {\n",
       "        vertical-align: middle;\n",
       "    }\n",
       "\n",
       "    .dataframe tbody tr th {\n",
       "        vertical-align: top;\n",
       "    }\n",
       "\n",
       "    .dataframe thead th {\n",
       "        text-align: right;\n",
       "    }\n",
       "</style>\n",
       "<table border=\"1\" class=\"dataframe\">\n",
       "  <thead>\n",
       "    <tr style=\"text-align: right;\">\n",
       "      <th></th>\n",
       "      <th>X_test</th>\n",
       "      <th>Y_test</th>\n",
       "      <th>Y_pred</th>\n",
       "    </tr>\n",
       "  </thead>\n",
       "  <tbody>\n",
       "    <tr>\n",
       "      <th>0</th>\n",
       "      <td>6.432251</td>\n",
       "      <td>0.010888</td>\n",
       "      <td>0.008498</td>\n",
       "    </tr>\n",
       "    <tr>\n",
       "      <th>1</th>\n",
       "      <td>6.331726</td>\n",
       "      <td>0.023901</td>\n",
       "      <td>0.062143</td>\n",
       "    </tr>\n",
       "    <tr>\n",
       "      <th>2</th>\n",
       "      <td>6.345764</td>\n",
       "      <td>0.184570</td>\n",
       "      <td>0.215641</td>\n",
       "    </tr>\n",
       "    <tr>\n",
       "      <th>3</th>\n",
       "      <td>6.355225</td>\n",
       "      <td>-0.718627</td>\n",
       "      <td>-0.637629</td>\n",
       "    </tr>\n",
       "    <tr>\n",
       "      <th>4</th>\n",
       "      <td>6.291992</td>\n",
       "      <td>0.026291</td>\n",
       "      <td>-0.021777</td>\n",
       "    </tr>\n",
       "    <tr>\n",
       "      <th>...</th>\n",
       "      <td>...</td>\n",
       "      <td>...</td>\n",
       "      <td>...</td>\n",
       "    </tr>\n",
       "    <tr>\n",
       "      <th>1416</th>\n",
       "      <td>6.458313</td>\n",
       "      <td>-0.124286</td>\n",
       "      <td>-0.123932</td>\n",
       "    </tr>\n",
       "    <tr>\n",
       "      <th>1417</th>\n",
       "      <td>6.294006</td>\n",
       "      <td>0.093745</td>\n",
       "      <td>0.092506</td>\n",
       "    </tr>\n",
       "    <tr>\n",
       "      <th>1418</th>\n",
       "      <td>6.160950</td>\n",
       "      <td>0.123489</td>\n",
       "      <td>0.133669</td>\n",
       "    </tr>\n",
       "    <tr>\n",
       "      <th>1419</th>\n",
       "      <td>6.354431</td>\n",
       "      <td>-0.129597</td>\n",
       "      <td>-0.115522</td>\n",
       "    </tr>\n",
       "    <tr>\n",
       "      <th>1420</th>\n",
       "      <td>6.165283</td>\n",
       "      <td>-0.051786</td>\n",
       "      <td>-0.042579</td>\n",
       "    </tr>\n",
       "  </tbody>\n",
       "</table>\n",
       "<p>1421 rows × 3 columns</p>\n",
       "</div>"
      ],
      "text/plain": [
       "        X_test    Y_test    Y_pred\n",
       "0     6.432251  0.010888  0.008498\n",
       "1     6.331726  0.023901  0.062143\n",
       "2     6.345764  0.184570  0.215641\n",
       "3     6.355225 -0.718627 -0.637629\n",
       "4     6.291992  0.026291 -0.021777\n",
       "...        ...       ...       ...\n",
       "1416  6.458313 -0.124286 -0.123932\n",
       "1417  6.294006  0.093745  0.092506\n",
       "1418  6.160950  0.123489  0.133669\n",
       "1419  6.354431 -0.129597 -0.115522\n",
       "1420  6.165283 -0.051786 -0.042579\n",
       "\n",
       "[1421 rows x 3 columns]"
      ]
     },
     "execution_count": 14,
     "metadata": {},
     "output_type": "execute_result"
    }
   ],
   "source": [
    "result_df = pd.DataFrame({'X_test': X_test.flatten(), 'Y_test': Y_test, 'Y_pred': Y_pred})\n",
    "result_df"
   ]
  },
  {
   "cell_type": "code",
   "execution_count": 15,
   "id": "dbf678b0",
   "metadata": {},
   "outputs": [],
   "source": [
    "# Perform prediction for new input values\n",
    "new_input_values = [3.296264648, 3.296325684, 3.296386719]  # Example input values\n",
    "new_predictions = knn_model.predict([[x] for x in new_input_values])"
   ]
  },
  {
   "cell_type": "code",
   "execution_count": 16,
   "id": "15d0539e",
   "metadata": {},
   "outputs": [
    {
     "name": "stdout",
     "output_type": "stream",
     "text": [
      "For input X = 3.296264648, predicted f(X) = 0.19713993866666668\n",
      "For input X = 3.296325684, predicted f(X) = 0.26255818200000003\n",
      "For input X = 3.296386719, predicted f(X) = 0.30018030599999995\n"
     ]
    }
   ],
   "source": [
    "# Print the new predictions\n",
    "for x, y_pred in zip(new_input_values, new_predictions):\n",
    "    print(f\"For input X = {x}, predicted f(X) = {y_pred}\")"
   ]
  },
  {
   "cell_type": "code",
   "execution_count": null,
   "id": "e98b3e4e",
   "metadata": {},
   "outputs": [],
   "source": []
  }
 ],
 "metadata": {
  "kernelspec": {
   "display_name": "Python 3 (ipykernel)",
   "language": "python",
   "name": "python3"
  },
  "language_info": {
   "codemirror_mode": {
    "name": "ipython",
    "version": 3
   },
   "file_extension": ".py",
   "mimetype": "text/x-python",
   "name": "python",
   "nbconvert_exporter": "python",
   "pygments_lexer": "ipython3",
   "version": "3.9.13"
  }
 },
 "nbformat": 4,
 "nbformat_minor": 5
}
