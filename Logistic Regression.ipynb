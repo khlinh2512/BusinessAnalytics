{
 "cells": [
  {
   "cell_type": "code",
   "execution_count": 1,
   "id": "1692454e",
   "metadata": {},
   "outputs": [],
   "source": [
    "import pandas as pd\n",
    "from sklearn.model_selection import train_test_split\n",
    "from sklearn.linear_model import LogisticRegression\n",
    "from sklearn.metrics import accuracy_score"
   ]
  },
  {
   "cell_type": "code",
   "execution_count": 2,
   "id": "e8d00d9a",
   "metadata": {},
   "outputs": [
    {
     "data": {
      "text/html": [
       "<div>\n",
       "<style scoped>\n",
       "    .dataframe tbody tr th:only-of-type {\n",
       "        vertical-align: middle;\n",
       "    }\n",
       "\n",
       "    .dataframe tbody tr th {\n",
       "        vertical-align: top;\n",
       "    }\n",
       "\n",
       "    .dataframe thead th {\n",
       "        text-align: right;\n",
       "    }\n",
       "</style>\n",
       "<table border=\"1\" class=\"dataframe\">\n",
       "  <thead>\n",
       "    <tr style=\"text-align: right;\">\n",
       "      <th></th>\n",
       "      <th>0</th>\n",
       "      <th>1</th>\n",
       "      <th>2</th>\n",
       "    </tr>\n",
       "  </thead>\n",
       "  <tbody>\n",
       "    <tr>\n",
       "      <th>0</th>\n",
       "      <td>3.295837</td>\n",
       "      <td>0.150577</td>\n",
       "      <td>A</td>\n",
       "    </tr>\n",
       "    <tr>\n",
       "      <th>1</th>\n",
       "      <td>3.295898</td>\n",
       "      <td>0.172088</td>\n",
       "      <td>A</td>\n",
       "    </tr>\n",
       "    <tr>\n",
       "      <th>2</th>\n",
       "      <td>3.295959</td>\n",
       "      <td>0.236621</td>\n",
       "      <td>A</td>\n",
       "    </tr>\n",
       "    <tr>\n",
       "      <th>3</th>\n",
       "      <td>3.296021</td>\n",
       "      <td>0.232372</td>\n",
       "      <td>A</td>\n",
       "    </tr>\n",
       "    <tr>\n",
       "      <th>4</th>\n",
       "      <td>3.296082</td>\n",
       "      <td>0.185632</td>\n",
       "      <td>A</td>\n",
       "    </tr>\n",
       "    <tr>\n",
       "      <th>...</th>\n",
       "      <td>...</td>\n",
       "      <td>...</td>\n",
       "      <td>...</td>\n",
       "    </tr>\n",
       "    <tr>\n",
       "      <th>7096</th>\n",
       "      <td>6.493408</td>\n",
       "      <td>-0.084716</td>\n",
       "      <td>A</td>\n",
       "    </tr>\n",
       "    <tr>\n",
       "      <th>7097</th>\n",
       "      <td>6.493469</td>\n",
       "      <td>-0.086575</td>\n",
       "      <td>A</td>\n",
       "    </tr>\n",
       "    <tr>\n",
       "      <th>7098</th>\n",
       "      <td>6.493530</td>\n",
       "      <td>-0.071969</td>\n",
       "      <td>A</td>\n",
       "    </tr>\n",
       "    <tr>\n",
       "      <th>7099</th>\n",
       "      <td>6.493591</td>\n",
       "      <td>-0.010357</td>\n",
       "      <td>A</td>\n",
       "    </tr>\n",
       "    <tr>\n",
       "      <th>7100</th>\n",
       "      <td>6.493652</td>\n",
       "      <td>0.067454</td>\n",
       "      <td>A</td>\n",
       "    </tr>\n",
       "  </tbody>\n",
       "</table>\n",
       "<p>7101 rows × 3 columns</p>\n",
       "</div>"
      ],
      "text/plain": [
       "             0         1  2\n",
       "0     3.295837  0.150577  A\n",
       "1     3.295898  0.172088  A\n",
       "2     3.295959  0.236621  A\n",
       "3     3.296021  0.232372  A\n",
       "4     3.296082  0.185632  A\n",
       "...        ...       ... ..\n",
       "7096  6.493408 -0.084716  A\n",
       "7097  6.493469 -0.086575  A\n",
       "7098  6.493530 -0.071969  A\n",
       "7099  6.493591 -0.010357  A\n",
       "7100  6.493652  0.067454  A\n",
       "\n",
       "[7101 rows x 3 columns]"
      ]
     },
     "execution_count": 2,
     "metadata": {},
     "output_type": "execute_result"
    }
   ],
   "source": [
    "data = pd.read_csv('Realtime_NN_Categorical.csv',header = None)\n",
    "data"
   ]
  },
  {
   "cell_type": "code",
   "execution_count": 3,
   "id": "cbe48a4e",
   "metadata": {},
   "outputs": [
    {
     "data": {
      "text/html": [
       "<div>\n",
       "<style scoped>\n",
       "    .dataframe tbody tr th:only-of-type {\n",
       "        vertical-align: middle;\n",
       "    }\n",
       "\n",
       "    .dataframe tbody tr th {\n",
       "        vertical-align: top;\n",
       "    }\n",
       "\n",
       "    .dataframe thead th {\n",
       "        text-align: right;\n",
       "    }\n",
       "</style>\n",
       "<table border=\"1\" class=\"dataframe\">\n",
       "  <thead>\n",
       "    <tr style=\"text-align: right;\">\n",
       "      <th></th>\n",
       "      <th>X</th>\n",
       "      <th>Y</th>\n",
       "      <th>Decision</th>\n",
       "    </tr>\n",
       "  </thead>\n",
       "  <tbody>\n",
       "    <tr>\n",
       "      <th>0</th>\n",
       "      <td>3.295837</td>\n",
       "      <td>0.150577</td>\n",
       "      <td>A</td>\n",
       "    </tr>\n",
       "    <tr>\n",
       "      <th>1</th>\n",
       "      <td>3.295898</td>\n",
       "      <td>0.172088</td>\n",
       "      <td>A</td>\n",
       "    </tr>\n",
       "    <tr>\n",
       "      <th>2</th>\n",
       "      <td>3.295959</td>\n",
       "      <td>0.236621</td>\n",
       "      <td>A</td>\n",
       "    </tr>\n",
       "    <tr>\n",
       "      <th>3</th>\n",
       "      <td>3.296021</td>\n",
       "      <td>0.232372</td>\n",
       "      <td>A</td>\n",
       "    </tr>\n",
       "    <tr>\n",
       "      <th>4</th>\n",
       "      <td>3.296082</td>\n",
       "      <td>0.185632</td>\n",
       "      <td>A</td>\n",
       "    </tr>\n",
       "    <tr>\n",
       "      <th>...</th>\n",
       "      <td>...</td>\n",
       "      <td>...</td>\n",
       "      <td>...</td>\n",
       "    </tr>\n",
       "    <tr>\n",
       "      <th>7096</th>\n",
       "      <td>6.493408</td>\n",
       "      <td>-0.084716</td>\n",
       "      <td>A</td>\n",
       "    </tr>\n",
       "    <tr>\n",
       "      <th>7097</th>\n",
       "      <td>6.493469</td>\n",
       "      <td>-0.086575</td>\n",
       "      <td>A</td>\n",
       "    </tr>\n",
       "    <tr>\n",
       "      <th>7098</th>\n",
       "      <td>6.493530</td>\n",
       "      <td>-0.071969</td>\n",
       "      <td>A</td>\n",
       "    </tr>\n",
       "    <tr>\n",
       "      <th>7099</th>\n",
       "      <td>6.493591</td>\n",
       "      <td>-0.010357</td>\n",
       "      <td>A</td>\n",
       "    </tr>\n",
       "    <tr>\n",
       "      <th>7100</th>\n",
       "      <td>6.493652</td>\n",
       "      <td>0.067454</td>\n",
       "      <td>A</td>\n",
       "    </tr>\n",
       "  </tbody>\n",
       "</table>\n",
       "<p>7101 rows × 3 columns</p>\n",
       "</div>"
      ],
      "text/plain": [
       "             X         Y Decision\n",
       "0     3.295837  0.150577        A\n",
       "1     3.295898  0.172088        A\n",
       "2     3.295959  0.236621        A\n",
       "3     3.296021  0.232372        A\n",
       "4     3.296082  0.185632        A\n",
       "...        ...       ...      ...\n",
       "7096  6.493408 -0.084716        A\n",
       "7097  6.493469 -0.086575        A\n",
       "7098  6.493530 -0.071969        A\n",
       "7099  6.493591 -0.010357        A\n",
       "7100  6.493652  0.067454        A\n",
       "\n",
       "[7101 rows x 3 columns]"
      ]
     },
     "execution_count": 3,
     "metadata": {},
     "output_type": "execute_result"
    }
   ],
   "source": [
    "data.columns = ['X', 'Y','Decision']\n",
    "data"
   ]
  },
  {
   "cell_type": "code",
   "execution_count": 4,
   "id": "e1304928",
   "metadata": {},
   "outputs": [
    {
     "data": {
      "text/plain": [
       "B    4704\n",
       "C    1561\n",
       "A     825\n",
       "D      11\n",
       "Name: Decision, dtype: int64"
      ]
     },
     "execution_count": 4,
     "metadata": {},
     "output_type": "execute_result"
    }
   ],
   "source": [
    "# Count the number of distinct Decision values\n",
    "num_distinct_decisions = data['Decision'].value_counts()\n",
    "num_distinct_decisions"
   ]
  },
  {
   "cell_type": "code",
   "execution_count": 5,
   "id": "66261f8b",
   "metadata": {},
   "outputs": [],
   "source": [
    "# Split the data into 80% training and 20% testing sets\n",
    "X = data[['X', 'Y']]\n",
    "y = data['Decision']\n",
    "X_train, X_test, y_train, y_test = train_test_split(X, y, test_size=0.2, random_state=42)"
   ]
  },
  {
   "cell_type": "code",
   "execution_count": 6,
   "id": "c7f38ac3",
   "metadata": {},
   "outputs": [
    {
     "data": {
      "text/plain": [
       "LogisticRegression(max_iter=1000)"
      ]
     },
     "execution_count": 6,
     "metadata": {},
     "output_type": "execute_result"
    }
   ],
   "source": [
    "# Create and fit the logistic regression model\n",
    "model = LogisticRegression(multi_class='auto', max_iter=1000)\n",
    "model.fit(X_train, y_train)"
   ]
  },
  {
   "cell_type": "code",
   "execution_count": 7,
   "id": "80caab34",
   "metadata": {},
   "outputs": [
    {
     "data": {
      "text/plain": [
       "array(['C', 'B', 'B', ..., 'B', 'B', 'B'], dtype=object)"
      ]
     },
     "execution_count": 7,
     "metadata": {},
     "output_type": "execute_result"
    }
   ],
   "source": [
    "# Predict the target values for the test set\n",
    "y_pred = model.predict(X_test)\n",
    "y_pred"
   ]
  },
  {
   "cell_type": "code",
   "execution_count": 8,
   "id": "984715ec",
   "metadata": {},
   "outputs": [
    {
     "name": "stdout",
     "output_type": "stream",
     "text": [
      "             X         Y Actual Predicted\n",
      "6094  6.432251  0.010888      C         C\n",
      "4447  6.331726  0.023901      B         B\n",
      "4677  6.345764  0.184570      B         B\n",
      "4832  6.355225 -0.718627      B         B\n",
      "3796  6.291992  0.026291      B         B\n",
      "...        ...       ...    ...       ...\n",
      "6521  6.458313 -0.124286      C         C\n",
      "3829  6.294006  0.093745      B         B\n",
      "1649  6.160950  0.123489      B         B\n",
      "4819  6.354431 -0.129597      B         B\n",
      "1720  6.165283 -0.051786      B         B\n",
      "\n",
      "[1421 rows x 4 columns]\n"
     ]
    }
   ],
   "source": [
    "# Create a DataFrame with Actual, Predicted, X, and Y values\n",
    "comparison = pd.DataFrame({\n",
    "    'X': X_test['X'],\n",
    "    'Y': X_test['Y'],\n",
    "    'Actual': data['Decision'].iloc[y_test.index],\n",
    "    'Predicted': y_pred\n",
    "})\n",
    "\n",
    "print(comparison)"
   ]
  },
  {
   "cell_type": "code",
   "execution_count": 9,
   "id": "c003ffa4",
   "metadata": {},
   "outputs": [
    {
     "data": {
      "text/plain": [
       "0.8634764250527798"
      ]
     },
     "execution_count": 9,
     "metadata": {},
     "output_type": "execute_result"
    }
   ],
   "source": [
    "accuracy = accuracy_score(y_test, y_pred)\n",
    "accuracy"
   ]
  }
 ],
 "metadata": {
  "kernelspec": {
   "display_name": "Python 3 (ipykernel)",
   "language": "python",
   "name": "python3"
  },
  "language_info": {
   "codemirror_mode": {
    "name": "ipython",
    "version": 3
   },
   "file_extension": ".py",
   "mimetype": "text/x-python",
   "name": "python",
   "nbconvert_exporter": "python",
   "pygments_lexer": "ipython3",
   "version": "3.9.13"
  }
 },
 "nbformat": 4,
 "nbformat_minor": 5
}
